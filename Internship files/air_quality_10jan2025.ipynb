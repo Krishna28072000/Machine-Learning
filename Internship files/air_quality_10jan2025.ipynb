{
 "cells": [
  {
   "cell_type": "code",
   "execution_count": 1,
   "id": "549c843b-e28c-441c-a7ac-00d1f61a74c5",
   "metadata": {},
   "outputs": [],
   "source": [
    "#https://www.kaggle.com/datasets/mujtabamatin/air-quality-and-pollution-assessment"
   ]
  },
  {
   "cell_type": "code",
   "execution_count": 2,
   "id": "b330080b-22c8-4943-bb76-b43613c7ae95",
   "metadata": {},
   "outputs": [],
   "source": [
    "import pandas as pd"
   ]
  },
  {
   "cell_type": "code",
   "execution_count": 3,
   "id": "03dbc123-5769-41b0-af0c-cf1c849c70ee",
   "metadata": {},
   "outputs": [],
   "source": [
    "df=pd.read_csv(\"C:\\\\Users\\\\JANARDHAN\\\\Documents\\\\Janardhan\\\\12Nov2024\\\\updated_pollution_dataset.csv\")"
   ]
  },
  {
   "cell_type": "code",
   "execution_count": 4,
   "id": "1be67fe4-d6ff-41bc-8081-38df53943f3b",
   "metadata": {},
   "outputs": [
    {
     "data": {
      "text/plain": [
       "(5000, 10)"
      ]
     },
     "execution_count": 4,
     "metadata": {},
     "output_type": "execute_result"
    }
   ],
   "source": [
    "df.shape"
   ]
  },
  {
   "cell_type": "code",
   "execution_count": 5,
   "id": "20fd4f4d-f0bb-46bd-bfeb-a678c3be3e91",
   "metadata": {},
   "outputs": [
    {
     "data": {
      "text/plain": [
       "Index(['Temperature', 'Humidity', 'PM2.5', 'PM10', 'NO2', 'SO2', 'CO',\n",
       "       'Proximity_to_Industrial_Areas', 'Population_Density', 'Air Quality'],\n",
       "      dtype='object')"
      ]
     },
     "execution_count": 5,
     "metadata": {},
     "output_type": "execute_result"
    }
   ],
   "source": [
    "df.columns"
   ]
  },
  {
   "cell_type": "code",
   "execution_count": 6,
   "id": "191e2310-c0ce-4765-95dd-de45d3ef70dc",
   "metadata": {},
   "outputs": [
    {
     "data": {
      "text/plain": [
       "Temperature                      0\n",
       "Humidity                         0\n",
       "PM2.5                            0\n",
       "PM10                             0\n",
       "NO2                              0\n",
       "SO2                              0\n",
       "CO                               0\n",
       "Proximity_to_Industrial_Areas    0\n",
       "Population_Density               0\n",
       "Air Quality                      0\n",
       "dtype: int64"
      ]
     },
     "execution_count": 6,
     "metadata": {},
     "output_type": "execute_result"
    }
   ],
   "source": [
    "df.isnull().sum()"
   ]
  },
  {
   "cell_type": "code",
   "execution_count": 8,
   "id": "220fa3d8-9227-4419-b2e6-1fbdb9a9d8b3",
   "metadata": {},
   "outputs": [],
   "source": [
    "from scipy.stats import f_oneway"
   ]
  },
  {
   "cell_type": "code",
   "execution_count": 11,
   "id": "9bf8130c-2a56-4d0f-b974-393116c76d24",
   "metadata": {},
   "outputs": [
    {
     "name": "stdout",
     "output_type": "stream",
     "text": [
      "column : Temperature, F-statistic: 2191.9374022972033, P-value: 0.0\n",
      "column : Humidity, F-statistic: 1071.2805847369366, P-value: 0.0\n",
      "column : PM2.5, F-statistic: 354.8001717963518, P-value: 6.991035853584263e-209\n",
      "column : PM10, F-statistic: 745.4262411714283, P-value: 0.0\n",
      "column : NO2, F-statistic: 2676.2159089566176, P-value: 0.0\n",
      "column : SO2, F-statistic: 2018.304415432383, P-value: 0.0\n",
      "column : CO, F-statistic: 8292.518513696, P-value: 0.0\n",
      "column : Proximity_to_Industrial_Areas, F-statistic: 3714.945062564165, P-value: 0.0\n",
      "column : Population_Density, F-statistic: 1189.932964847901, P-value: 0.0\n"
     ]
    }
   ],
   "source": [
    "df_cat=df.copy()\n",
    "c_list=[]\n",
    "nc_list=[]\n",
    "for c1 in list(df_cat.columns):\n",
    "    if c1 == 'Air Quality':\n",
    "        continue\n",
    "    else:\n",
    "        groups = [df_cat[c1][df_cat['Air Quality'] == category] for category in df_cat['Air Quality'].unique()]\n",
    "        f_stat, p_value = f_oneway(*groups)\n",
    "        print(f\"column : {c1}, F-statistic: {f_stat}, P-value: {p_value}\")\n",
    "        if p_value < 0.05:\n",
    "            c_list.append(c1)\n",
    "        else:\n",
    "            nc_list.append(c1)"
   ]
  },
  {
   "cell_type": "code",
   "execution_count": null,
   "id": "41760459-13d1-4ea3-afaf-4ecfd657148c",
   "metadata": {},
   "outputs": [],
   "source": []
  }
 ],
 "metadata": {
  "kernelspec": {
   "display_name": "Python 3 (ipykernel)",
   "language": "python",
   "name": "python3"
  },
  "language_info": {
   "codemirror_mode": {
    "name": "ipython",
    "version": 3
   },
   "file_extension": ".py",
   "mimetype": "text/x-python",
   "name": "python",
   "nbconvert_exporter": "python",
   "pygments_lexer": "ipython3",
   "version": "3.11.7"
  }
 },
 "nbformat": 4,
 "nbformat_minor": 5
}
